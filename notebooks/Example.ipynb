{
 "cells": [
  {
   "cell_type": "code",
   "execution_count": 1,
   "metadata": {},
   "outputs": [],
   "source": [
    "import numpy as np\n",
    "import matplotlib.pyplot as plt\n",
    "%matplotlib inline\n",
    "\n",
    "import wimprates\n",
    "import numericalunits as nu"
   ]
  },
  {
   "cell_type": "code",
   "execution_count": 2,
   "metadata": {},
   "outputs": [],
   "source": [
    "energies = np.linspace(0.01, 40, 100)\n",
    "dr = wimprates.rate_wimp_std(energies, mw=50, sigma_nucleon=1e-45)"
   ]
  },
  {
   "cell_type": "code",
   "execution_count": 3,
   "metadata": {},
   "outputs": [
    {
     "data": {
      "text/plain": [
       "(0, 38.047764781135946)"
      ]
     },
     "execution_count": 3,
     "metadata": {},
     "output_type": "execute_result"
    },
    {
     "data": {
      "image/png": "[encoded data removed]",
      "text/plain": [
       "<matplotlib.figure.Figure at 0x7f94daa1c908>"
      ]
     },
     "metadata": {},
     "output_type": "display_data"
    }
   ],
   "source": [
    "plt.plot(energies, dr)\n",
    "\n",
    "plt.xlabel(\"Recoil energy [keV]\")\n",
    "plt.ylabel(\"Rate [events per (keV ton year)]\")\n",
    "plt.title(\"$m_\\chi = 50$ GeV/c${}^2$, $\\sigma_\\chi = 10^{-45}$ cm${}^2$\")\n",
    "plt.xlim(0, energies.max())\n",
    "plt.ylim(0, None)"
   ]
  },
  {
   "cell_type": "code",
   "execution_count": 4,
   "metadata": {},
   "outputs": [
    {
     "name": "stdout",
     "output_type": "stream",
     "text": [
      "Help on function rate_wimp_std in module wimprates:\n",
      "\n",
      "rate_wimp_std(es, mw, sigma_nucleon, **kwargs)\n",
      "    Differential rate per (ton day keV) of WIMP-nucleus scattering.\n",
      "    :param es: Recoil energies in keV\n",
      "    :param mw: WIMP mass in GeV/c^2\n",
      "    :param sigma_nucleon: WIMP-nucleon cross-section in cm^2\n",
      "    :returns: numpy array of same length as es\n",
      "    \n",
      "    Further arguments are as for rate_wimp; see docstring of rate_wimp.\n",
      "\n"
     ]
    }
   ],
   "source": [
    "help(wimprates.rate_wimp_std)"
   ]
  },
  {
   "cell_type": "code",
   "execution_count": 5,
   "metadata": {},
   "outputs": [
    {
     "name": "stdout",
     "output_type": "stream",
     "text": [
      "Help on function rate_wimp in module wimprates:\n",
      "\n",
      "rate_wimp(es, mw, sigma_nucleon, interaction='SI', detection_mechanism='elastic_nr', progress_bar=False, **kwargs)\n",
      "    Differential rate per unit time, unit detector mass and unit recoil energy of WIMP-nucleus scattering\n",
      "    Use numericalunits to get variables in/out in the right units.\n",
      "    \n",
      "    :param es: Energy of recoil (for elastic_nr) or bremsstrahlung photon (for bremsstrahlung)\n",
      "    :param mw: Mass of WIMP\n",
      "    :param sigma_nucleon: WIMP-nucleon cross-section\n",
      "    :param interaction: string describing DM-nucleus interaction. Options:\n",
      "            'SI' for spin-independent scattering; equal coupling to protons and neutrons\n",
      "            'SD_n_xxx' for spin-dependent scattering\n",
      "                n can be 'n' or 'p' for neutron or proton coupling (at first order)\n",
      "                x can be 'central', 'up' or 'down' for theoretical uncertainty on structure function\n",
      "    :param detection_mechanism: Detection mechanism, can be 'elastic_nr' or 'bremsstrahlung'\n",
      "    :param progress_bar: if True, show a progress bar during evaluation for multiple energies\n",
      "    :returns: numpy array of same length as es, differential WIMP-nucleus scattering rates\n",
      "    \n",
      "    Further kwargs are passed to scipy.integrate.quad numeric integrator (e.g. error tolerance).\n",
      "\n"
     ]
    }
   ],
   "source": [
    "help(wimprates.rate_wimp)"
   ]
  }
 ],
 "metadata": {
  "kernelspec": {
   "display_name": "Python 3",
   "language": "python",
   "name": "python3"
  },
  "language_info": {
   "codemirror_mode": {
    "name": "ipython",
    "version": 3
   },
   "file_extension": ".py",
   "mimetype": "text/x-python",
   "name": "python",
   "nbconvert_exporter": "python",
   "pygments_lexer": "ipython3",
   "version": "3.4.5"
  }
 },
 "nbformat": 4,
 "nbformat_minor": 2
}
