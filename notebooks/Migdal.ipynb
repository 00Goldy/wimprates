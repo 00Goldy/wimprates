{
 "cells": [
  {
   "cell_type": "markdown",
   "metadata": {},
   "source": [
    "# Migdal Tutorial\n",
    "Tutorial to compute Migdal rates according to different models.\n",
    "Models from two sources are currently implemented:\n",
    " - **Ibe**: https://link.springer.com/article/10.1007/JHEP03(2018)194\n",
    " - **Cox**: https://journals.aps.org/prd/abstract/10.1103/PhysRevD.107.035032\n",
    "\n"
   ]
  },
  {
   "cell_type": "code",
   "execution_count": null,
   "metadata": {
    "ExecuteTime": {
     "end_time": "2022-07-22T19:16:26.733826Z",
     "start_time": "2022-07-22T19:16:24.834775Z"
    },
    "pycharm": {
     "name": "#%%\n"
    }
   },
   "outputs": [],
   "source": [
    "import matplotlib.pyplot as plt\n",
    "import numericalunits as nu\n",
    "import numpy as np\n",
    "import pandas as pd\n",
    "import seaborn as sns\n",
    "\n",
    "import wimprates as wr\n",
    "\n",
    "sns.set_theme()\n",
    "sns.set_style('ticks')"
   ]
  },
  {
   "cell_type": "markdown",
   "metadata": {
    "pycharm": {
     "name": "#%% md\n"
    }
   },
   "source": [
    "### Convert Xe.dat to nicer format (Ibe)"
   ]
  },
  {
   "cell_type": "code",
   "execution_count": null,
   "metadata": {
    "ExecuteTime": {
     "end_time": "2022-07-22T19:16:26.776139Z",
     "start_time": "2022-07-22T19:16:26.735821Z"
    },
    "pycharm": {
     "name": "#%%\n"
    }
   },
   "outputs": [],
   "source": [
    "SOURCE='Xe'\n",
    "df = dict()\n",
    "with open(wr.data_file(f'migdal/Ibe/{SOURCE}.dat')) as f:\n",
    "    header = False\n",
    "    for i, line in enumerate(f.read().splitlines()):\n",
    "        if 'Principal' in line:\n",
    "            header = True\n",
    "            continue\n",
    "        if 'Energy' in line:\n",
    "            header = False\n",
    "            continue\n",
    "            \n",
    "        if header:\n",
    "            n, l = [int(x) for x in line.split()]\n",
    "        else:\n",
    "            e, rate = [float(x) for x in line.split()]\n",
    "            df.setdefault(e, dict())\n",
    "            df[e]['%d_%d' % (n, l)] = rate\n",
    "                \n",
    "df = pd.DataFrame(df).T\n",
    "df['E'] = df.index\n",
    "\n",
    "df.to_csv('migdal_transition_ps.csv', index=False)\n",
    "df_migdal = df\n",
    "df.head()"
   ]
  },
  {
   "cell_type": "markdown",
   "metadata": {
    "pycharm": {
     "name": "#%% md\n"
    }
   },
   "source": [
    "Rows are energies, columns are (n, l) states. Data is the differential transition probabilities, at the 1 eV/c reference momentum, not divided by 2 pi."
   ]
  },
  {
   "cell_type": "markdown",
   "metadata": {
    "pycharm": {
     "name": "#%% md\n"
    }
   },
   "source": [
    "### Reproduce figure 4"
   ]
  },
  {
   "cell_type": "markdown",
   "metadata": {
    "pycharm": {
     "name": "#%% md\n"
    }
   },
   "source": [
    "To reproduce figure 4 of https://arxiv.org/pdf/1707.07258.pdf, we must\n",
    "  * Convert to the other reference momentum of $m_e * .001 c$\n",
    "  * Divide by 2 pi.\n",
    "  * Convert eV -> keV; multiply energies by 1e3 and divide differential probabilities by 1e3."
   ]
  },
  {
   "cell_type": "code",
   "execution_count": null,
   "metadata": {
    "ExecuteTime": {
     "end_time": "2022-07-22T19:16:27.594619Z",
     "start_time": "2022-07-22T19:16:26.778591Z"
    },
    "pycharm": {
     "name": "#%%\n"
    }
   },
   "outputs": [],
   "source": [
    "scale = ((nu.me * 1e-3 * nu.c0)/(nu.eV / nu.c0))**2 / (2 * np.pi)\n",
    "df2, _ = wr.migdal.read_migdal_transitions(SOURCE)\n",
    "for n in df.keys():\n",
    "    x = df_migdal[n].values.copy()\n",
    "    if not n.endswith('0'):\n",
    "        continue\n",
    "    for c in df2.keys():\n",
    "        if c.startswith(str(n).split('_')[0]) and not c.endswith('0'):\n",
    "            x += df[c]\n",
    "    \n",
    "    plt.plot(df['E'] / 1e3, x * scale * 1e3, label=n[0])\n",
    "\n",
    "plt.xscale('log')\n",
    "plt.yscale('log')\n",
    "plt.xlabel(\"Energy [keV]\")\n",
    "plt.ylabel(\"Differential inoisation probability [keV$^{-1}$]\")\n",
    "plt.legend()"
   ]
  },
  {
   "cell_type": "markdown",
   "metadata": {},
   "source": [
    "## Using the iterator getter for different models\n",
    "The getter function `wr.get_migdal_transitions_probability_iterators` provides a list of instanses of the Shell class.\n"
   ]
  },
  {
   "cell_type": "code",
   "execution_count": null,
   "metadata": {},
   "outputs": [],
   "source": [
    "wr.migdal.Shell?"
   ]
  },
  {
   "cell_type": "code",
   "execution_count": null,
   "metadata": {},
   "outputs": [],
   "source": [
    "scale = ((nu.me * 1e-3 * nu.c0)/(nu.eV / nu.c0))**2 / (2 * np.pi)\n",
    "shells_ibe = wr.get_migdal_transitions_probability_iterators(material=SOURCE, model=\"Ibe\", considered_shells=(\"*\"))\n",
    "\n",
    "E = df[\"E\"].to_numpy() * nu.eV\n",
    "\n",
    "for shell in shells_ibe:\n",
    "    x = shell(E)\n",
    "    if shell.l != \"_0\":\n",
    "        continue\n",
    "    for _shell in shells_ibe:\n",
    "        if shell.n == _shell.n  and _shell.l != \"_0\":\n",
    "            x += _shell(E)\n",
    "    plt.plot(E / nu.keV, x * scale * nu.keV, label=f\"n={shell.n}\")\n",
    "    \n",
    "\n",
    "plt.xscale('log')\n",
    "plt.yscale('log')\n",
    "plt.title(\"Ibe model\")\n",
    "plt.xlabel(\"E [keV]\")\n",
    "plt.ylabel(\"Differential inoisation probability [keV$^{-1}$]\")\n",
    "plt.legend()\n",
    "plt.show()"
   ]
  },
  {
   "cell_type": "code",
   "execution_count": null,
   "metadata": {},
   "outputs": [],
   "source": [
    "fig, ax = plt.subplots()\n",
    "shells_cox = wr.get_migdal_transitions_probability_iterators(material=SOURCE, model=\"Cox\", considered_shells=(\"*\",))\n",
    "\n",
    "\n",
    "E = np.logspace(0, np.log10(20e3), 1000) * nu.eV\n",
    "v = np.repeat(1e-4, len(E))\n",
    "\n",
    "def print_f(arr, pref=\"\"):\n",
    "    if arr is not None:\n",
    "        return 0\n",
    "    print(f\"{pref} {arr[:2]=}\")\n",
    "for shell in shells_cox:\n",
    "    x = shell(E.copy(), v=v)\n",
    "    if shell.l != \"s\":\n",
    "        continue\n",
    "    for _shell in shells_cox:\n",
    "        if shell.n == _shell.n  and _shell.l != \"s\":\n",
    "            x += _shell(E.copy(), v=v)\n",
    "    ax.plot(E / nu.keV, x * nu.keV, label=f\"n={shell.name}\")\n",
    "    \n",
    "\n",
    "\n",
    "ax.set_xscale('log')\n",
    "ax.set_yscale('log')\n",
    "ax.set_title(\"Cox model\")\n",
    "ax.set_xlabel(\"E [keV]\")\n",
    "ax.set_ylabel(\"Differential inoisation probability [keV$^{-1}$]\")\n",
    "ax.legend()\n",
    "plt.show()"
   ]
  },
  {
   "cell_type": "code",
   "execution_count": null,
   "metadata": {},
   "outputs": [],
   "source": [
    "fig, ax = plt.subplots()\n",
    "shells_cox_dipole = wr.get_migdal_transitions_probability_iterators(material=SOURCE, model=\"Cox\", dipole=True, considered_shells=(\"*\",))\n",
    "\n",
    "\n",
    "E = df[\"E\"].to_numpy().copy() * nu.eV\n",
    "v = np.repeat(1e-3, len(E))\n",
    "\n",
    "def print_f(arr, pref=\"\"):\n",
    "    if arr is not None:\n",
    "        return 0\n",
    "    print(f\"{pref} {arr[:2]=}\")\n",
    "for shell in shells_cox_dipole:\n",
    "    x = shell(E.copy(), v=v)\n",
    "    if shell.l != \"s\":\n",
    "        continue\n",
    "    for _shell in shells_cox_dipole:\n",
    "        if shell.n == _shell.n  and _shell.l != \"s\":\n",
    "            x += _shell(E.copy(), v=v)\n",
    "    ax.plot(E / nu.keV, x * nu.keV, label=f\"n={shell.name}\")\n",
    "    \n",
    "\n",
    "\n",
    "ax.set_xscale('log')\n",
    "ax.set_yscale('log')\n",
    "ax.set_title(\"Cox model with Dipole Approximation\")\n",
    "ax.set_xlabel(\"E [keV]\")\n",
    "ax.set_ylabel(\"Differential inoisation probability [keV$^{-1}$]\")\n",
    "ax.legend()\n",
    "plt.show()"
   ]
  },
  {
   "cell_type": "markdown",
   "metadata": {
    "pycharm": {
     "name": "#%% md\n"
    }
   },
   "source": [
    "### Compare with spectrum from LUX talk"
   ]
  },
  {
   "cell_type": "markdown",
   "metadata": {
    "pycharm": {
     "name": "#%% md\n"
    }
   },
   "source": [
    "To verify we have the correct spectrum, let's compare to a curve trace from slide 10 of a [recent LUX talk](https://indico.cern.ch/event/699961/contributions/3043408/attachments/1692619/2723656/JLIN_Sub_GeV_DM_Talk_IDM2018_V4.pdf)"
   ]
  },
  {
   "cell_type": "code",
   "execution_count": null,
   "metadata": {},
   "outputs": [],
   "source": [
    "es = np.logspace(np.log10(5e-2), np.log10(2), 100) *  nu.keV\n",
    "\n",
    "WIMP_MASS = 0.5 # GeV\n",
    "SIGMA = 1e-35 # cm^2\n",
    "\n",
    "def extract_exponent(num):\n",
    "    # Convert the number to a string in scientific notation\n",
    "    num_str = f\"{num:.1e}\"\n",
    "    # Split the string on 'e' to separate the mantissa and exponent\n",
    "    num, exponent_str = num_str.split('e')\n",
    "    # Convert the exponent part to an integer\n",
    "    exponent = int(exponent_str)\n",
    "    return num, exponent\n",
    "\n",
    "_, SIGMA_Exp = extract_exponent(SIGMA)"
   ]
  },
  {
   "cell_type": "code",
   "execution_count": null,
   "metadata": {},
   "outputs": [],
   "source": [
    "rs_ibe = wr.rate_migdal(\n",
    "    w=es,\n",
    "    mw=WIMP_MASS * nu.GeV / nu.c0**2,\n",
    "    sigma_nucleon=SIGMA * nu.cm**2,\n",
    "    migdal_model=\"Ibe\",\n",
    "    include_approx_nr=False,\n",
    "    progress_bar=True,\n",
    ")"
   ]
  },
  {
   "cell_type": "code",
   "execution_count": null,
   "metadata": {},
   "outputs": [],
   "source": [
    "fig, ax = plt.subplots()\n",
    "\n",
    "ref_curve = pd.read_csv(\"migdal_0.5gev_curvetrace_lux.csv\", index_col=False)\n",
    "ax.plot(\n",
    "    10 ** ref_curve[\"logE\"], 10 ** ref_curve[\"logR\"], color=\"red\", label=\"Curve trace\"\n",
    ")\n",
    "ax.plot(es / nu.keV, rs_ibe * (nu.kg * nu.day * nu.keV), label=\"Ibe\")\n",
    "\n",
    "ax.set_title(rf\"Migdal rate for $m_{{WIMP}} = {WIMP_MASS}$ GeV/c$^2$ and $\\sigma_{{nucleon}} = 10^{{{SIGMA_Exp}}}$ cm$^2$\")\n",
    "ax.set_xscale(\"log\")\n",
    "ax.set_yscale(\"log\")\n",
    "ax.set_xlabel(\"Deposited energy [keV$_{ee}$]\")\n",
    "ax.set_ylabel(\"Differential Rate [keV$^{-1}$ kg$^{-1}$ day$^{-1}$]\")\n",
    "plt.legend()"
   ]
  },
  {
   "cell_type": "markdown",
   "metadata": {},
   "source": [
    "Looks good! The remaining deviations look like curve tracing artifacts."
   ]
  },
  {
   "cell_type": "markdown",
   "metadata": {},
   "source": [
    "## Comparing Cox and Ibe models"
   ]
  },
  {
   "cell_type": "code",
   "execution_count": null,
   "metadata": {},
   "outputs": [],
   "source": [
    "WITH_DIPOLE = False\n",
    "\n",
    "rs_cox = wr.rate_migdal(\n",
    "    w=es,\n",
    "    mw=WIMP_MASS * nu.GeV / nu.c0**2,\n",
    "    sigma_nucleon=SIGMA * nu.cm**2,\n",
    "    migdal_model=\"Cox\",\n",
    "    dipole=False,\n",
    "    # e_threshold=0.1 * nu.keV,\n",
    "    progress_bar=True,\n",
    ")\n",
    "if WITH_DIPOLE:\n",
    "    rs_cox_dipole = wr.rate_migdal(\n",
    "        w=es,\n",
    "        mw=WIMP_MASS * nu.GeV / nu.c0**2,\n",
    "        sigma_nucleon=SIGMA * nu.cm**2,\n",
    "        migdal_model=\"Cox\",\n",
    "        dipole=True,\n",
    "        include_approx_nr=False,\n",
    "        progress_bar=True,\n",
    "    )"
   ]
  },
  {
   "cell_type": "code",
   "execution_count": null,
   "metadata": {},
   "outputs": [],
   "source": [
    "df_rs = pd.DataFrame(dict(\n",
    "    E=es/nu.keV,\n",
    "    r_cox=rs_cox * (nu.kg * nu.day * nu.keV),\n",
    "    r_ibe=rs_ibe* (nu.kg * nu.day * nu.keV),\n",
    "))\n",
    "if WITH_DIPOLE:\n",
    "    df_rs['r_cox_dipole'] = rs_cox_dipole * (nu.kg * nu.day * nu.keV)\n",
    "\n",
    "df_rs = df_rs.melt(id_vars='E')"
   ]
  },
  {
   "cell_type": "code",
   "execution_count": null,
   "metadata": {},
   "outputs": [],
   "source": [
    "import seaborn as sns\n",
    "\n",
    "g = sns.relplot(data=df_rs, x=\"E\", y=\"value\", hue=\"variable\", kind=\"line\")\n",
    "g.set(\n",
    "    xscale=\"log\",\n",
    "    yscale=\"log\",\n",
    "    xlabel=r\"Deposited energy [keV$_{ee}$]\",\n",
    "    ylabel=\"Differential Rate [keV$^{-1}$ kg$^{-1}$ day$^{-1}$]\",\n",
    "    title=rf\"Migdal rate for $m_{{WIMP}} = {WIMP_MASS}$ GeV/c$^2$ and $\\sigma_{{nucleon}} = 10^{{{SIGMA_Exp}}}$ cm$^2$\",\n",
    ")"
   ]
  },
  {
   "cell_type": "markdown",
   "metadata": {},
   "source": [
    "The observed discrepancies between the models are due to multiple factors:\n",
    " - The model by Cox does not use the dipole approximation and normalizes the electron spinors using different techniques. This influences mostly the ***shape*** of the distribution.\n",
    " - The two models use slightly different binding energy values for the considered orbitals. This affects the the minimum energies at which the migdal effect is kinematically allowed and, consequently, the ***horizontal stretch*** of the distributions. "
   ]
  },
  {
   "cell_type": "markdown",
   "metadata": {},
   "source": [
    "### Binding energies"
   ]
  },
  {
   "cell_type": "code",
   "execution_count": null,
   "metadata": {},
   "outputs": [],
   "source": [
    "l_model = []\n",
    "l_n = []\n",
    "l_l = []\n",
    "l_Binding_E = []\n",
    "\n",
    "for shell in shells_cox:\n",
    "    l_model.append(\"Cox\")\n",
    "    l_n.append(shell.n)\n",
    "    l_l.append(shell.l)\n",
    "    l_Binding_E.append(shell.binding_e)\n",
    "\n",
    "orb_conv = {key:val for key, val in zip([\"_0\", \"_1\", \"_2\"], [\"s\", \"p\", \"d\"])}\n",
    "\n",
    "for shell in shells_ibe:\n",
    "    l_model.append(\"Ibe\")\n",
    "    l_n.append(shell.n)\n",
    "    l_l.append(orb_conv[shell.l])\n",
    "    l_Binding_E.append(shell.binding_e)\n",
    "\n",
    "df = pd.DataFrame(dict(\n",
    "    Model=l_model,\n",
    "    n=l_n,\n",
    "    l=l_l,\n",
    "    Binding_E=l_Binding_E,\n",
    "))\n",
    "shell_order = [\"1s\",\"2s\",\"2p-\", \"2p\", \"3s\", \"3p-\", \"3p\", \"3d-\", \"3d\", \"4s\", \"4p-\", \"4p\", \"4d-\", \"4d\", \"5s\", \"5p-\", \"5p\"]\n",
    "df[\"name\"] = (df.n.astype(str) + df.l).astype(pd.CategoricalDtype(categories=shell_order, ordered=True))\n",
    "df.sort_values(\"name\", inplace=True)\n",
    "df.reset_index(drop=True, inplace=True)\n",
    "considered_shells = df.query(\"n in [3,4]\").groupby([\"Model\", \"name\"], observed=True).mean(numeric_only=True)\n",
    "all_shells = df.groupby([\"Model\", \"name\"], observed=True).mean(numeric_only=True)"
   ]
  },
  {
   "cell_type": "code",
   "execution_count": null,
   "metadata": {},
   "outputs": [],
   "source": [
    "g = sns.catplot(data=all_shells, y=\"Binding_E\", x=\"name\", hue=\"Model\", kind=\"bar\")\n",
    "g.set(ylabel=\"Binding Energy (keV)\", xlabel=\"Subshell\", yscale=\"log\", title=\"Binding Energies for all orbitals\")"
   ]
  },
  {
   "cell_type": "code",
   "execution_count": null,
   "metadata": {},
   "outputs": [],
   "source": [
    "g = sns.catplot(data=considered_shells, y=\"Binding_E\", x=\"name\", hue=\"Model\", kind=\"bar\", order=considered_shells.index.levels[1].values)\n",
    "g.set(ylabel=\"Binding Energy (keV)\", xlabel=\"Subshell\", title=\"Binding Energies for considered orbitals\")"
   ]
  },
  {
   "cell_type": "markdown",
   "metadata": {},
   "source": [
    "A check was made by fixing the binding energies for the Ibe model to the ones utilised by Peter Cox *et al*. The resulting rates were the following:"
   ]
  },
  {
   "cell_type": "markdown",
   "metadata": {},
   "source": [
    "![Image](rates_fixed_binding_energies.png)"
   ]
  }
 ],
 "metadata": {
  "kernelspec": {
   "display_name": "Python 3 (ipykernel)",
   "language": "python",
   "name": "python3"
  },
  "language_info": {
   "codemirror_mode": {
    "name": "ipython",
    "version": 3
   },
   "file_extension": ".py",
   "mimetype": "text/x-python",
   "name": "python",
   "nbconvert_exporter": "python",
   "pygments_lexer": "ipython3",
   "version": "3.12.4"
  }
 },
 "nbformat": 4,
 "nbformat_minor": 2
}
